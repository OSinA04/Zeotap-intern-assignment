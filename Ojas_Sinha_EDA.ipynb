{
 "cells": [
  {
   "cell_type": "code",
   "execution_count": 1,
   "metadata": {},
   "outputs": [],
   "source": [
    "import pandas as pd\n",
    "import numpy as np\n",
    "import matplotlib.pyplot as plt"
   ]
  },
  {
   "cell_type": "code",
   "execution_count": 2,
   "metadata": {},
   "outputs": [],
   "source": [
    "# Loading the data\n",
    "customers_df = pd.read_csv('dataset/Customers.csv')\n",
    "products_df = pd.read_csv('dataset/Products.csv')\n",
    "transactions_df = pd.read_csv('dataset/Transactions.csv')"
   ]
  },
  {
   "cell_type": "code",
   "execution_count": 3,
   "metadata": {},
   "outputs": [
    {
     "name": "stdout",
     "output_type": "stream",
     "text": [
      "<class 'pandas.core.frame.DataFrame'>\n",
      "RangeIndex: 200 entries, 0 to 199\n",
      "Data columns (total 4 columns):\n",
      " #   Column        Non-Null Count  Dtype \n",
      "---  ------        --------------  ----- \n",
      " 0   CustomerID    200 non-null    object\n",
      " 1   CustomerName  200 non-null    object\n",
      " 2   Region        200 non-null    object\n",
      " 3   SignupDate    200 non-null    object\n",
      "dtypes: object(4)\n",
      "memory usage: 6.4+ KB\n"
     ]
    }
   ],
   "source": [
    "customers_df.info()"
   ]
  },
  {
   "cell_type": "code",
   "execution_count": 4,
   "metadata": {},
   "outputs": [
    {
     "name": "stdout",
     "output_type": "stream",
     "text": [
      "<class 'pandas.core.frame.DataFrame'>\n",
      "RangeIndex: 100 entries, 0 to 99\n",
      "Data columns (total 4 columns):\n",
      " #   Column       Non-Null Count  Dtype  \n",
      "---  ------       --------------  -----  \n",
      " 0   ProductID    100 non-null    object \n",
      " 1   ProductName  100 non-null    object \n",
      " 2   Category     100 non-null    object \n",
      " 3   Price        100 non-null    float64\n",
      "dtypes: float64(1), object(3)\n",
      "memory usage: 3.2+ KB\n"
     ]
    }
   ],
   "source": [
    "products_df.info()"
   ]
  },
  {
   "cell_type": "code",
   "execution_count": 5,
   "metadata": {},
   "outputs": [
    {
     "name": "stdout",
     "output_type": "stream",
     "text": [
      "<class 'pandas.core.frame.DataFrame'>\n",
      "RangeIndex: 1000 entries, 0 to 999\n",
      "Data columns (total 7 columns):\n",
      " #   Column           Non-Null Count  Dtype  \n",
      "---  ------           --------------  -----  \n",
      " 0   TransactionID    1000 non-null   object \n",
      " 1   CustomerID       1000 non-null   object \n",
      " 2   ProductID        1000 non-null   object \n",
      " 3   TransactionDate  1000 non-null   object \n",
      " 4   Quantity         1000 non-null   int64  \n",
      " 5   TotalValue       1000 non-null   float64\n",
      " 6   Price            1000 non-null   float64\n",
      "dtypes: float64(2), int64(1), object(4)\n",
      "memory usage: 54.8+ KB\n"
     ]
    }
   ],
   "source": [
    "transactions_df.info()"
   ]
  },
  {
   "cell_type": "code",
   "execution_count": 6,
   "metadata": {},
   "outputs": [
    {
     "data": {
      "text/html": [
       "<div>\n",
       "<style scoped>\n",
       "    .dataframe tbody tr th:only-of-type {\n",
       "        vertical-align: middle;\n",
       "    }\n",
       "\n",
       "    .dataframe tbody tr th {\n",
       "        vertical-align: top;\n",
       "    }\n",
       "\n",
       "    .dataframe thead th {\n",
       "        text-align: right;\n",
       "    }\n",
       "</style>\n",
       "<table border=\"1\" class=\"dataframe\">\n",
       "  <thead>\n",
       "    <tr style=\"text-align: right;\">\n",
       "      <th></th>\n",
       "      <th>CustomerID</th>\n",
       "      <th>CustomerName</th>\n",
       "      <th>Region</th>\n",
       "      <th>SignupDate</th>\n",
       "    </tr>\n",
       "  </thead>\n",
       "  <tbody>\n",
       "    <tr>\n",
       "      <th>0</th>\n",
       "      <td>C0001</td>\n",
       "      <td>Lawrence Carroll</td>\n",
       "      <td>South America</td>\n",
       "      <td>2022-07-10</td>\n",
       "    </tr>\n",
       "    <tr>\n",
       "      <th>1</th>\n",
       "      <td>C0002</td>\n",
       "      <td>Elizabeth Lutz</td>\n",
       "      <td>Asia</td>\n",
       "      <td>2022-02-13</td>\n",
       "    </tr>\n",
       "    <tr>\n",
       "      <th>2</th>\n",
       "      <td>C0003</td>\n",
       "      <td>Michael Rivera</td>\n",
       "      <td>South America</td>\n",
       "      <td>2024-03-07</td>\n",
       "    </tr>\n",
       "    <tr>\n",
       "      <th>3</th>\n",
       "      <td>C0004</td>\n",
       "      <td>Kathleen Rodriguez</td>\n",
       "      <td>South America</td>\n",
       "      <td>2022-10-09</td>\n",
       "    </tr>\n",
       "    <tr>\n",
       "      <th>4</th>\n",
       "      <td>C0005</td>\n",
       "      <td>Laura Weber</td>\n",
       "      <td>Asia</td>\n",
       "      <td>2022-08-15</td>\n",
       "    </tr>\n",
       "  </tbody>\n",
       "</table>\n",
       "</div>"
      ],
      "text/plain": [
       "  CustomerID        CustomerName         Region  SignupDate\n",
       "0      C0001    Lawrence Carroll  South America  2022-07-10\n",
       "1      C0002      Elizabeth Lutz           Asia  2022-02-13\n",
       "2      C0003      Michael Rivera  South America  2024-03-07\n",
       "3      C0004  Kathleen Rodriguez  South America  2022-10-09\n",
       "4      C0005         Laura Weber           Asia  2022-08-15"
      ]
     },
     "execution_count": 6,
     "metadata": {},
     "output_type": "execute_result"
    }
   ],
   "source": [
    "customers_df.head()"
   ]
  },
  {
   "cell_type": "code",
   "execution_count": 7,
   "metadata": {},
   "outputs": [
    {
     "data": {
      "text/html": [
       "<div>\n",
       "<style scoped>\n",
       "    .dataframe tbody tr th:only-of-type {\n",
       "        vertical-align: middle;\n",
       "    }\n",
       "\n",
       "    .dataframe tbody tr th {\n",
       "        vertical-align: top;\n",
       "    }\n",
       "\n",
       "    .dataframe thead th {\n",
       "        text-align: right;\n",
       "    }\n",
       "</style>\n",
       "<table border=\"1\" class=\"dataframe\">\n",
       "  <thead>\n",
       "    <tr style=\"text-align: right;\">\n",
       "      <th></th>\n",
       "      <th>ProductID</th>\n",
       "      <th>ProductName</th>\n",
       "      <th>Category</th>\n",
       "      <th>Price</th>\n",
       "    </tr>\n",
       "  </thead>\n",
       "  <tbody>\n",
       "    <tr>\n",
       "      <th>0</th>\n",
       "      <td>P001</td>\n",
       "      <td>ActiveWear Biography</td>\n",
       "      <td>Books</td>\n",
       "      <td>169.30</td>\n",
       "    </tr>\n",
       "    <tr>\n",
       "      <th>1</th>\n",
       "      <td>P002</td>\n",
       "      <td>ActiveWear Smartwatch</td>\n",
       "      <td>Electronics</td>\n",
       "      <td>346.30</td>\n",
       "    </tr>\n",
       "    <tr>\n",
       "      <th>2</th>\n",
       "      <td>P003</td>\n",
       "      <td>ComfortLiving Biography</td>\n",
       "      <td>Books</td>\n",
       "      <td>44.12</td>\n",
       "    </tr>\n",
       "    <tr>\n",
       "      <th>3</th>\n",
       "      <td>P004</td>\n",
       "      <td>BookWorld Rug</td>\n",
       "      <td>Home Decor</td>\n",
       "      <td>95.69</td>\n",
       "    </tr>\n",
       "    <tr>\n",
       "      <th>4</th>\n",
       "      <td>P005</td>\n",
       "      <td>TechPro T-Shirt</td>\n",
       "      <td>Clothing</td>\n",
       "      <td>429.31</td>\n",
       "    </tr>\n",
       "  </tbody>\n",
       "</table>\n",
       "</div>"
      ],
      "text/plain": [
       "  ProductID              ProductName     Category   Price\n",
       "0      P001     ActiveWear Biography        Books  169.30\n",
       "1      P002    ActiveWear Smartwatch  Electronics  346.30\n",
       "2      P003  ComfortLiving Biography        Books   44.12\n",
       "3      P004            BookWorld Rug   Home Decor   95.69\n",
       "4      P005          TechPro T-Shirt     Clothing  429.31"
      ]
     },
     "execution_count": 7,
     "metadata": {},
     "output_type": "execute_result"
    }
   ],
   "source": [
    "products_df.head()"
   ]
  },
  {
   "cell_type": "code",
   "execution_count": 8,
   "metadata": {},
   "outputs": [
    {
     "data": {
      "text/html": [
       "<div>\n",
       "<style scoped>\n",
       "    .dataframe tbody tr th:only-of-type {\n",
       "        vertical-align: middle;\n",
       "    }\n",
       "\n",
       "    .dataframe tbody tr th {\n",
       "        vertical-align: top;\n",
       "    }\n",
       "\n",
       "    .dataframe thead th {\n",
       "        text-align: right;\n",
       "    }\n",
       "</style>\n",
       "<table border=\"1\" class=\"dataframe\">\n",
       "  <thead>\n",
       "    <tr style=\"text-align: right;\">\n",
       "      <th></th>\n",
       "      <th>TransactionID</th>\n",
       "      <th>CustomerID</th>\n",
       "      <th>ProductID</th>\n",
       "      <th>TransactionDate</th>\n",
       "      <th>Quantity</th>\n",
       "      <th>TotalValue</th>\n",
       "      <th>Price</th>\n",
       "    </tr>\n",
       "  </thead>\n",
       "  <tbody>\n",
       "    <tr>\n",
       "      <th>0</th>\n",
       "      <td>T00001</td>\n",
       "      <td>C0199</td>\n",
       "      <td>P067</td>\n",
       "      <td>2024-08-25 12:38:23</td>\n",
       "      <td>1</td>\n",
       "      <td>300.68</td>\n",
       "      <td>300.68</td>\n",
       "    </tr>\n",
       "    <tr>\n",
       "      <th>1</th>\n",
       "      <td>T00112</td>\n",
       "      <td>C0146</td>\n",
       "      <td>P067</td>\n",
       "      <td>2024-05-27 22:23:54</td>\n",
       "      <td>1</td>\n",
       "      <td>300.68</td>\n",
       "      <td>300.68</td>\n",
       "    </tr>\n",
       "    <tr>\n",
       "      <th>2</th>\n",
       "      <td>T00166</td>\n",
       "      <td>C0127</td>\n",
       "      <td>P067</td>\n",
       "      <td>2024-04-25 07:38:55</td>\n",
       "      <td>1</td>\n",
       "      <td>300.68</td>\n",
       "      <td>300.68</td>\n",
       "    </tr>\n",
       "    <tr>\n",
       "      <th>3</th>\n",
       "      <td>T00272</td>\n",
       "      <td>C0087</td>\n",
       "      <td>P067</td>\n",
       "      <td>2024-03-26 22:55:37</td>\n",
       "      <td>2</td>\n",
       "      <td>601.36</td>\n",
       "      <td>300.68</td>\n",
       "    </tr>\n",
       "    <tr>\n",
       "      <th>4</th>\n",
       "      <td>T00363</td>\n",
       "      <td>C0070</td>\n",
       "      <td>P067</td>\n",
       "      <td>2024-03-21 15:10:10</td>\n",
       "      <td>3</td>\n",
       "      <td>902.04</td>\n",
       "      <td>300.68</td>\n",
       "    </tr>\n",
       "  </tbody>\n",
       "</table>\n",
       "</div>"
      ],
      "text/plain": [
       "  TransactionID CustomerID ProductID      TransactionDate  Quantity  \\\n",
       "0        T00001      C0199      P067  2024-08-25 12:38:23         1   \n",
       "1        T00112      C0146      P067  2024-05-27 22:23:54         1   \n",
       "2        T00166      C0127      P067  2024-04-25 07:38:55         1   \n",
       "3        T00272      C0087      P067  2024-03-26 22:55:37         2   \n",
       "4        T00363      C0070      P067  2024-03-21 15:10:10         3   \n",
       "\n",
       "   TotalValue   Price  \n",
       "0      300.68  300.68  \n",
       "1      300.68  300.68  \n",
       "2      300.68  300.68  \n",
       "3      601.36  300.68  \n",
       "4      902.04  300.68  "
      ]
     },
     "execution_count": 8,
     "metadata": {},
     "output_type": "execute_result"
    }
   ],
   "source": [
    "transactions_df.head()"
   ]
  },
  {
   "cell_type": "code",
   "execution_count": 9,
   "metadata": {},
   "outputs": [],
   "source": [
    "grouped_transactions = transactions_df.groupby('CustomerID')"
   ]
  },
  {
   "cell_type": "code",
   "execution_count": 10,
   "metadata": {},
   "outputs": [
    {
     "data": {
      "text/plain": [
       "CustomerID\n",
       "C0001    3354.52\n",
       "C0002    1862.74\n",
       "C0003    2725.38\n",
       "C0004    5354.88\n",
       "C0005    2034.24\n",
       "          ...   \n",
       "C0196    4982.88\n",
       "C0197    1928.65\n",
       "C0198     931.83\n",
       "C0199    1979.28\n",
       "C0200    4758.60\n",
       "Name: TotalValue, Length: 199, dtype: float64"
      ]
     },
     "execution_count": 10,
     "metadata": {},
     "output_type": "execute_result"
    }
   ],
   "source": [
    "# find the total spent by each customer\n",
    "amount_spent_by_each_customer = grouped_transactions['TotalValue'].sum()\n",
    "\n",
    "amount_spent_by_each_customer"
   ]
  },
  {
   "cell_type": "code",
   "execution_count": 11,
   "metadata": {},
   "outputs": [
    {
     "data": {
      "image/png": "[encoded data removed]",
      "text/plain": [
       "<Figure size 640x480 with 1 Axes>"
      ]
     },
     "metadata": {},
     "output_type": "display_data"
    }
   ],
   "source": [
    "# Plot the amount spent by each customer on a frequency graph\n",
    "plt.hist(amount_spent_by_each_customer, bins=20)\n",
    "plt.xlabel('Amount Spent')\n",
    "plt.ylabel('Customers')\n",
    "plt.title('Amount Spent by Customers')\n",
    "plt.show()"
   ]
  },
  {
   "cell_type": "code",
   "execution_count": 12,
   "metadata": {},
   "outputs": [
    {
     "data": {
      "text/plain": [
       "count      199.000000\n",
       "mean      3467.314372\n",
       "std       1832.677958\n",
       "min         82.360000\n",
       "25%       2162.040000\n",
       "50%       3137.660000\n",
       "75%       4770.225000\n",
       "max      10673.870000\n",
       "Name: TotalValue, dtype: float64"
      ]
     },
     "execution_count": 12,
     "metadata": {},
     "output_type": "execute_result"
    }
   ],
   "source": [
    "amount_spent_by_each_customer.describe()"
   ]
  },
  {
   "cell_type": "code",
   "execution_count": 13,
   "metadata": {},
   "outputs": [
    {
     "data": {
      "text/plain": [
       "ProductID\n",
       "P001    18\n",
       "P002    25\n",
       "P003    31\n",
       "P004    18\n",
       "P005    24\n",
       "        ..\n",
       "P096    34\n",
       "P097    25\n",
       "P098    16\n",
       "P099    11\n",
       "P100    15\n",
       "Name: Quantity, Length: 100, dtype: int64"
      ]
     },
     "execution_count": 13,
     "metadata": {},
     "output_type": "execute_result"
    }
   ],
   "source": [
    "# Check which product has sold the most\n",
    "grouped_products = transactions_df.groupby('ProductID')\n",
    "product_sold = grouped_products['Quantity'].sum()\n",
    "product_sold"
   ]
  },
  {
   "cell_type": "code",
   "execution_count": 14,
   "metadata": {},
   "outputs": [
    {
     "data": {
      "text/html": [
       "<div>\n",
       "<style scoped>\n",
       "    .dataframe tbody tr th:only-of-type {\n",
       "        vertical-align: middle;\n",
       "    }\n",
       "\n",
       "    .dataframe tbody tr th {\n",
       "        vertical-align: top;\n",
       "    }\n",
       "\n",
       "    .dataframe thead th {\n",
       "        text-align: right;\n",
       "    }\n",
       "</style>\n",
       "<table border=\"1\" class=\"dataframe\">\n",
       "  <thead>\n",
       "    <tr style=\"text-align: right;\">\n",
       "      <th></th>\n",
       "      <th>ProductID</th>\n",
       "      <th>Quantity</th>\n",
       "      <th>ProductName</th>\n",
       "      <th>Category</th>\n",
       "      <th>Price</th>\n",
       "    </tr>\n",
       "  </thead>\n",
       "  <tbody>\n",
       "    <tr>\n",
       "      <th>0</th>\n",
       "      <td>P001</td>\n",
       "      <td>18</td>\n",
       "      <td>ActiveWear Biography</td>\n",
       "      <td>Books</td>\n",
       "      <td>169.30</td>\n",
       "    </tr>\n",
       "    <tr>\n",
       "      <th>1</th>\n",
       "      <td>P002</td>\n",
       "      <td>25</td>\n",
       "      <td>ActiveWear Smartwatch</td>\n",
       "      <td>Electronics</td>\n",
       "      <td>346.30</td>\n",
       "    </tr>\n",
       "    <tr>\n",
       "      <th>2</th>\n",
       "      <td>P003</td>\n",
       "      <td>31</td>\n",
       "      <td>ComfortLiving Biography</td>\n",
       "      <td>Books</td>\n",
       "      <td>44.12</td>\n",
       "    </tr>\n",
       "    <tr>\n",
       "      <th>3</th>\n",
       "      <td>P004</td>\n",
       "      <td>18</td>\n",
       "      <td>BookWorld Rug</td>\n",
       "      <td>Home Decor</td>\n",
       "      <td>95.69</td>\n",
       "    </tr>\n",
       "    <tr>\n",
       "      <th>4</th>\n",
       "      <td>P005</td>\n",
       "      <td>24</td>\n",
       "      <td>TechPro T-Shirt</td>\n",
       "      <td>Clothing</td>\n",
       "      <td>429.31</td>\n",
       "    </tr>\n",
       "    <tr>\n",
       "      <th>...</th>\n",
       "      <td>...</td>\n",
       "      <td>...</td>\n",
       "      <td>...</td>\n",
       "      <td>...</td>\n",
       "      <td>...</td>\n",
       "    </tr>\n",
       "    <tr>\n",
       "      <th>95</th>\n",
       "      <td>P096</td>\n",
       "      <td>34</td>\n",
       "      <td>SoundWave Headphones</td>\n",
       "      <td>Electronics</td>\n",
       "      <td>307.47</td>\n",
       "    </tr>\n",
       "    <tr>\n",
       "      <th>96</th>\n",
       "      <td>P097</td>\n",
       "      <td>25</td>\n",
       "      <td>BookWorld Cookbook</td>\n",
       "      <td>Books</td>\n",
       "      <td>319.34</td>\n",
       "    </tr>\n",
       "    <tr>\n",
       "      <th>97</th>\n",
       "      <td>P098</td>\n",
       "      <td>16</td>\n",
       "      <td>SoundWave Laptop</td>\n",
       "      <td>Electronics</td>\n",
       "      <td>299.93</td>\n",
       "    </tr>\n",
       "    <tr>\n",
       "      <th>98</th>\n",
       "      <td>P099</td>\n",
       "      <td>11</td>\n",
       "      <td>SoundWave Mystery Book</td>\n",
       "      <td>Books</td>\n",
       "      <td>354.29</td>\n",
       "    </tr>\n",
       "    <tr>\n",
       "      <th>99</th>\n",
       "      <td>P100</td>\n",
       "      <td>15</td>\n",
       "      <td>HomeSense Sweater</td>\n",
       "      <td>Clothing</td>\n",
       "      <td>126.34</td>\n",
       "    </tr>\n",
       "  </tbody>\n",
       "</table>\n",
       "<p>100 rows × 5 columns</p>\n",
       "</div>"
      ],
      "text/plain": [
       "   ProductID  Quantity              ProductName     Category   Price\n",
       "0       P001        18     ActiveWear Biography        Books  169.30\n",
       "1       P002        25    ActiveWear Smartwatch  Electronics  346.30\n",
       "2       P003        31  ComfortLiving Biography        Books   44.12\n",
       "3       P004        18            BookWorld Rug   Home Decor   95.69\n",
       "4       P005        24          TechPro T-Shirt     Clothing  429.31\n",
       "..       ...       ...                      ...          ...     ...\n",
       "95      P096        34     SoundWave Headphones  Electronics  307.47\n",
       "96      P097        25       BookWorld Cookbook        Books  319.34\n",
       "97      P098        16         SoundWave Laptop  Electronics  299.93\n",
       "98      P099        11   SoundWave Mystery Book        Books  354.29\n",
       "99      P100        15        HomeSense Sweater     Clothing  126.34\n",
       "\n",
       "[100 rows x 5 columns]"
      ]
     },
     "execution_count": 14,
     "metadata": {},
     "output_type": "execute_result"
    }
   ],
   "source": [
    "# associate the product id with the product name\n",
    "product_sold = product_sold.reset_index()\n",
    "product_sold = product_sold.merge(products_df, on='ProductID')\n",
    "product_sold"
   ]
  },
  {
   "cell_type": "code",
   "execution_count": 15,
   "metadata": {},
   "outputs": [
    {
     "data": {
      "text/html": [
       "<div>\n",
       "<style scoped>\n",
       "    .dataframe tbody tr th:only-of-type {\n",
       "        vertical-align: middle;\n",
       "    }\n",
       "\n",
       "    .dataframe tbody tr th {\n",
       "        vertical-align: top;\n",
       "    }\n",
       "\n",
       "    .dataframe thead th {\n",
       "        text-align: right;\n",
       "    }\n",
       "</style>\n",
       "<table border=\"1\" class=\"dataframe\">\n",
       "  <thead>\n",
       "    <tr style=\"text-align: right;\">\n",
       "      <th></th>\n",
       "      <th>ProductID</th>\n",
       "      <th>Quantity</th>\n",
       "      <th>ProductName</th>\n",
       "      <th>Category</th>\n",
       "      <th>Price</th>\n",
       "    </tr>\n",
       "  </thead>\n",
       "  <tbody>\n",
       "    <tr>\n",
       "      <th>53</th>\n",
       "      <td>P054</td>\n",
       "      <td>46</td>\n",
       "      <td>SoundWave Cookbook</td>\n",
       "      <td>Books</td>\n",
       "      <td>57.30</td>\n",
       "    </tr>\n",
       "    <tr>\n",
       "      <th>58</th>\n",
       "      <td>P059</td>\n",
       "      <td>46</td>\n",
       "      <td>SoundWave Jeans</td>\n",
       "      <td>Clothing</td>\n",
       "      <td>303.20</td>\n",
       "    </tr>\n",
       "    <tr>\n",
       "      <th>28</th>\n",
       "      <td>P029</td>\n",
       "      <td>45</td>\n",
       "      <td>TechPro Headphones</td>\n",
       "      <td>Electronics</td>\n",
       "      <td>433.64</td>\n",
       "    </tr>\n",
       "    <tr>\n",
       "      <th>47</th>\n",
       "      <td>P048</td>\n",
       "      <td>43</td>\n",
       "      <td>TechPro Cookbook</td>\n",
       "      <td>Books</td>\n",
       "      <td>416.40</td>\n",
       "    </tr>\n",
       "    <tr>\n",
       "      <th>56</th>\n",
       "      <td>P057</td>\n",
       "      <td>43</td>\n",
       "      <td>ActiveWear Smartphone</td>\n",
       "      <td>Electronics</td>\n",
       "      <td>239.70</td>\n",
       "    </tr>\n",
       "  </tbody>\n",
       "</table>\n",
       "</div>"
      ],
      "text/plain": [
       "   ProductID  Quantity            ProductName     Category   Price\n",
       "53      P054        46     SoundWave Cookbook        Books   57.30\n",
       "58      P059        46        SoundWave Jeans     Clothing  303.20\n",
       "28      P029        45     TechPro Headphones  Electronics  433.64\n",
       "47      P048        43       TechPro Cookbook        Books  416.40\n",
       "56      P057        43  ActiveWear Smartphone  Electronics  239.70"
      ]
     },
     "execution_count": 15,
     "metadata": {},
     "output_type": "execute_result"
    }
   ],
   "source": [
    "# What are the top 5 products sold\n",
    "top_5_products = product_sold.sort_values('Quantity', ascending=False).head(5)\n",
    "top_5_products"
   ]
  },
  {
   "cell_type": "code",
   "execution_count": 16,
   "metadata": {},
   "outputs": [
    {
     "data": {
      "text/html": [
       "<div>\n",
       "<style scoped>\n",
       "    .dataframe tbody tr th:only-of-type {\n",
       "        vertical-align: middle;\n",
       "    }\n",
       "\n",
       "    .dataframe tbody tr th {\n",
       "        vertical-align: top;\n",
       "    }\n",
       "\n",
       "    .dataframe thead th {\n",
       "        text-align: right;\n",
       "    }\n",
       "</style>\n",
       "<table border=\"1\" class=\"dataframe\">\n",
       "  <thead>\n",
       "    <tr style=\"text-align: right;\">\n",
       "      <th></th>\n",
       "      <th>ProductID</th>\n",
       "      <th>Quantity</th>\n",
       "      <th>ProductName</th>\n",
       "      <th>Category</th>\n",
       "      <th>Price</th>\n",
       "      <th>TotalValue</th>\n",
       "    </tr>\n",
       "  </thead>\n",
       "  <tbody>\n",
       "    <tr>\n",
       "      <th>28</th>\n",
       "      <td>P029</td>\n",
       "      <td>45</td>\n",
       "      <td>TechPro Headphones</td>\n",
       "      <td>Electronics</td>\n",
       "      <td>433.64</td>\n",
       "      <td>19513.80</td>\n",
       "    </tr>\n",
       "    <tr>\n",
       "      <th>78</th>\n",
       "      <td>P079</td>\n",
       "      <td>43</td>\n",
       "      <td>ActiveWear Rug</td>\n",
       "      <td>Home Decor</td>\n",
       "      <td>417.37</td>\n",
       "      <td>17946.91</td>\n",
       "    </tr>\n",
       "    <tr>\n",
       "      <th>47</th>\n",
       "      <td>P048</td>\n",
       "      <td>43</td>\n",
       "      <td>TechPro Cookbook</td>\n",
       "      <td>Books</td>\n",
       "      <td>416.40</td>\n",
       "      <td>17905.20</td>\n",
       "    </tr>\n",
       "    <tr>\n",
       "      <th>19</th>\n",
       "      <td>P020</td>\n",
       "      <td>38</td>\n",
       "      <td>ActiveWear Jacket</td>\n",
       "      <td>Clothing</td>\n",
       "      <td>396.34</td>\n",
       "      <td>15060.92</td>\n",
       "    </tr>\n",
       "    <tr>\n",
       "      <th>61</th>\n",
       "      <td>P062</td>\n",
       "      <td>39</td>\n",
       "      <td>HomeSense Novel</td>\n",
       "      <td>Books</td>\n",
       "      <td>374.16</td>\n",
       "      <td>14592.24</td>\n",
       "    </tr>\n",
       "  </tbody>\n",
       "</table>\n",
       "</div>"
      ],
      "text/plain": [
       "   ProductID  Quantity         ProductName     Category   Price  TotalValue\n",
       "28      P029        45  TechPro Headphones  Electronics  433.64    19513.80\n",
       "78      P079        43      ActiveWear Rug   Home Decor  417.37    17946.91\n",
       "47      P048        43    TechPro Cookbook        Books  416.40    17905.20\n",
       "19      P020        38   ActiveWear Jacket     Clothing  396.34    15060.92\n",
       "61      P062        39     HomeSense Novel        Books  374.16    14592.24"
      ]
     },
     "execution_count": 16,
     "metadata": {},
     "output_type": "execute_result"
    }
   ],
   "source": [
    "# Check which products generate the most value\n",
    "product_sold['TotalValue'] = product_sold['Quantity'] * product_sold['Price']\n",
    "\n",
    "# What are the top 5 products that generate the most value\n",
    "top_5_products_value = product_sold.sort_values('TotalValue', ascending=False).head(5)\n",
    "top_5_products_value"
   ]
  },
  {
   "cell_type": "code",
   "execution_count": 17,
   "metadata": {},
   "outputs": [
    {
     "data": {
      "text/plain": [
       "Region\n",
       "Asia             45\n",
       "Europe           50\n",
       "North America    46\n",
       "South America    59\n",
       "Name: CustomerID, dtype: int64"
      ]
     },
     "execution_count": 17,
     "metadata": {},
     "output_type": "execute_result"
    }
   ],
   "source": [
    "# check which region has the most customers\n",
    "grouped_customers = customers_df.groupby('Region')\n",
    "customers_per_region = grouped_customers['CustomerID'].count()\n",
    "customers_per_region"
   ]
  },
  {
   "cell_type": "code",
   "execution_count": 18,
   "metadata": {},
   "outputs": [
    {
     "data": {
      "image/png": "[encoded data removed]",
      "text/plain": [
       "<Figure size 640x480 with 1 Axes>"
      ]
     },
     "metadata": {},
     "output_type": "display_data"
    }
   ],
   "source": [
    "customers_per_region = customers_per_region.sort_values()\n",
    "customers_per_region.plot(kind='barh', color=['blue', 'green', 'red', 'purple', 'orange'])\n",
    "plt.xlabel('Number of Customers')\n",
    "plt.ylabel('Region')\n",
    "plt.title('Number of Customers per Region')\n",
    "for index, value in enumerate(customers_per_region):\n",
    "    plt.text(value, index, str(value))\n",
    "plt.show()"
   ]
  },
  {
   "cell_type": "code",
   "execution_count": 19,
   "metadata": {},
   "outputs": [
    {
     "data": {
      "text/plain": [
       "Region\n",
       "Asia             152074.97\n",
       "Europe           166254.63\n",
       "North America    152313.40\n",
       "South America    219352.56\n",
       "Name: TotalValue, dtype: float64"
      ]
     },
     "execution_count": 19,
     "metadata": {},
     "output_type": "execute_result"
    }
   ],
   "source": [
    "customers_df_copy = customers_df.merge(transactions_df, on='CustomerID')\n",
    "grouped_customers = customers_df_copy.groupby('Region')\n",
    "value_per_region = grouped_customers['TotalValue'].sum()\n",
    "value_per_region"
   ]
  },
  {
   "cell_type": "code",
   "execution_count": null,
   "metadata": {},
   "outputs": [
    {
     "data": {
      "image/png": "[encoded data removed]",
      "text/plain": [
       "<Figure size 640x480 with 1 Axes>"
      ]
     },
     "metadata": {},
     "output_type": "display_data"
    }
   ],
   "source": [
    "# plot the total value generated by each region\n",
    "value_per_region = value_per_region.sort_values()\n",
    "value_per_region.plot(kind='barh', color=['blue', 'green', 'red', 'purple', 'orange'])\n",
    "plt.xlabel('Total Value')\n",
    "plt.ylabel('Region')\n",
    "plt.title('Total Value per Region')\n",
    "total_value = value_per_region.sum()\n",
    "for index, value in enumerate(value_per_region):\n",
    "    plt.text(value, index, str(round(value / total_value * 100, 2)) + '%')\n",
    "plt.show()"
   ]
  },
  {
   "cell_type": "code",
   "execution_count": 21,
   "metadata": {},
   "outputs": [
    {
     "name": "stderr",
     "output_type": "stream",
     "text": [
      "C:\\Users\\ojass\\AppData\\Local\\Temp\\ipykernel_31732\\1663342569.py:4: FutureWarning: 'M' is deprecated and will be removed in a future version, please use 'ME' instead.\n",
      "  transactions_df_copy['TotalValue'].resample('M').sum().plot()\n"
     ]
    },
    {
     "data": {
      "image/png": "[encoded data removed]",
      "text/plain": [
       "<Figure size 640x480 with 1 Axes>"
      ]
     },
     "metadata": {},
     "output_type": "display_data"
    }
   ],
   "source": [
    "transactions_df_copy = transactions_df.copy()\n",
    "transactions_df_copy['TransactionDate'] = pd.to_datetime(transactions_df_copy['TransactionDate'])\n",
    "transactions_df_copy.set_index('TransactionDate', inplace=True)\n",
    "transactions_df_copy['TotalValue'].resample('M').sum().plot()\n",
    "plt.xlabel('Date')\n",
    "plt.ylabel('Total Sales')\n",
    "plt.title('Total Sales Over Time')\n",
    "plt.show()"
   ]
  },
  {
   "cell_type": "code",
   "execution_count": 22,
   "metadata": {},
   "outputs": [
    {
     "name": "stderr",
     "output_type": "stream",
     "text": [
      "C:\\Users\\ojass\\AppData\\Local\\Temp\\ipykernel_31732\\3680700978.py:2: FutureWarning: 'M' is deprecated and will be removed in a future version, please use 'ME' instead.\n",
      "  transactions_df_copy['TransactionID'].resample('M').count().plot()\n"
     ]
    },
    {
     "data": {
      "image/png": "[encoded data removed]",
      "text/plain": [
       "<Figure size 640x480 with 1 Axes>"
      ]
     },
     "metadata": {},
     "output_type": "display_data"
    }
   ],
   "source": [
    "# Plot the number of purchases over time\n",
    "transactions_df_copy['TransactionID'].resample('M').count().plot()\n",
    "plt.xlabel('Date')\n",
    "plt.ylabel('Number of Purchases')\n",
    "plt.title('Number of Purchases Over Time')\n",
    "plt.show()\n"
   ]
  },
  {
   "cell_type": "code",
   "execution_count": 23,
   "metadata": {},
   "outputs": [
    {
     "name": "stderr",
     "output_type": "stream",
     "text": [
      "C:\\Users\\ojass\\AppData\\Local\\Temp\\ipykernel_31732\\2144009546.py:7: FutureWarning: 'M' is deprecated and will be removed in a future version, please use 'ME' instead.\n",
      "  data['TotalValue'].resample('M').sum().plot(label=region)\n",
      "C:\\Users\\ojass\\AppData\\Local\\Temp\\ipykernel_31732\\2144009546.py:7: FutureWarning: 'M' is deprecated and will be removed in a future version, please use 'ME' instead.\n",
      "  data['TotalValue'].resample('M').sum().plot(label=region)\n",
      "C:\\Users\\ojass\\AppData\\Local\\Temp\\ipykernel_31732\\2144009546.py:7: FutureWarning: 'M' is deprecated and will be removed in a future version, please use 'ME' instead.\n",
      "  data['TotalValue'].resample('M').sum().plot(label=region)\n",
      "C:\\Users\\ojass\\AppData\\Local\\Temp\\ipykernel_31732\\2144009546.py:7: FutureWarning: 'M' is deprecated and will be removed in a future version, please use 'ME' instead.\n",
      "  data['TotalValue'].resample('M').sum().plot(label=region)\n"
     ]
    },
    {
     "data": {
      "image/png": "[encoded data removed]",
      "text/plain": [
       "<Figure size 640x480 with 1 Axes>"
      ]
     },
     "metadata": {},
     "output_type": "display_data"
    }
   ],
   "source": [
    "transactions_df_copy = transactions_df.copy()\n",
    "transactions_df_copy = transactions_df_copy.merge(customers_df, on='CustomerID')\n",
    "transactions_df_copy['TransactionDate'] = pd.to_datetime(transactions_df_copy['TransactionDate'])\n",
    "transactions_df_copy.set_index('TransactionDate', inplace=True)\n",
    "grouped_region = transactions_df_copy.groupby('Region')\n",
    "for region, data in grouped_region:\n",
    "    data['TotalValue'].resample('M').sum().plot(label=region)\n",
    "plt.xlabel('Date')\n",
    "plt.ylabel('Total Sales')\n",
    "plt.title('Total Sales Over Time for Each Region')\n",
    "plt.legend()\n",
    "plt.show()"
   ]
  },
  {
   "cell_type": "code",
   "execution_count": 24,
   "metadata": {},
   "outputs": [
    {
     "data": {
      "text/html": [
       "<div>\n",
       "<style scoped>\n",
       "    .dataframe tbody tr th:only-of-type {\n",
       "        vertical-align: middle;\n",
       "    }\n",
       "\n",
       "    .dataframe tbody tr th {\n",
       "        vertical-align: top;\n",
       "    }\n",
       "\n",
       "    .dataframe thead th {\n",
       "        text-align: right;\n",
       "    }\n",
       "</style>\n",
       "<table border=\"1\" class=\"dataframe\">\n",
       "  <thead>\n",
       "    <tr style=\"text-align: right;\">\n",
       "      <th></th>\n",
       "      <th>ProductID</th>\n",
       "      <th>Quantity</th>\n",
       "      <th>ProductName</th>\n",
       "      <th>Category</th>\n",
       "      <th>Price</th>\n",
       "    </tr>\n",
       "  </thead>\n",
       "  <tbody>\n",
       "    <tr>\n",
       "      <th>27</th>\n",
       "      <td>P029</td>\n",
       "      <td>22</td>\n",
       "      <td>TechPro Headphones</td>\n",
       "      <td>Electronics</td>\n",
       "      <td>433.64</td>\n",
       "    </tr>\n",
       "    <tr>\n",
       "      <th>50</th>\n",
       "      <td>P054</td>\n",
       "      <td>21</td>\n",
       "      <td>SoundWave Cookbook</td>\n",
       "      <td>Books</td>\n",
       "      <td>57.30</td>\n",
       "    </tr>\n",
       "    <tr>\n",
       "      <th>54</th>\n",
       "      <td>P058</td>\n",
       "      <td>21</td>\n",
       "      <td>ActiveWear Textbook</td>\n",
       "      <td>Books</td>\n",
       "      <td>157.62</td>\n",
       "    </tr>\n",
       "    <tr>\n",
       "      <th>36</th>\n",
       "      <td>P040</td>\n",
       "      <td>20</td>\n",
       "      <td>SoundWave Mystery Book</td>\n",
       "      <td>Books</td>\n",
       "      <td>153.19</td>\n",
       "    </tr>\n",
       "    <tr>\n",
       "      <th>44</th>\n",
       "      <td>P048</td>\n",
       "      <td>18</td>\n",
       "      <td>TechPro Cookbook</td>\n",
       "      <td>Books</td>\n",
       "      <td>416.40</td>\n",
       "    </tr>\n",
       "  </tbody>\n",
       "</table>\n",
       "</div>"
      ],
      "text/plain": [
       "   ProductID  Quantity             ProductName     Category   Price\n",
       "27      P029        22      TechPro Headphones  Electronics  433.64\n",
       "50      P054        21      SoundWave Cookbook        Books   57.30\n",
       "54      P058        21     ActiveWear Textbook        Books  157.62\n",
       "36      P040        20  SoundWave Mystery Book        Books  153.19\n",
       "44      P048        18        TechPro Cookbook        Books  416.40"
      ]
     },
     "execution_count": 24,
     "metadata": {},
     "output_type": "execute_result"
    }
   ],
   "source": [
    "# check the most popular products in South America by quantity sold\n",
    "south_america_customers = customers_df[customers_df['Region'] == 'South America']\n",
    "south_america_customers = south_america_customers.merge(transactions_df, on='CustomerID')\n",
    "south_america_customers = south_america_customers.merge(products_df, on='ProductID')\n",
    "grouped_products = south_america_customers.groupby('ProductID')\n",
    "product_sold = grouped_products['Quantity'].sum()\n",
    "product_sold = product_sold.reset_index()\n",
    "product_sold = product_sold.merge(products_df, on='ProductID')\n",
    "top_5_products = product_sold.sort_values('Quantity', ascending=False).head(5)\n",
    "top_5_products"
   ]
  },
  {
   "cell_type": "code",
   "execution_count": 25,
   "metadata": {},
   "outputs": [
    {
     "data": {
      "text/html": [
       "<div>\n",
       "<style scoped>\n",
       "    .dataframe tbody tr th:only-of-type {\n",
       "        vertical-align: middle;\n",
       "    }\n",
       "\n",
       "    .dataframe tbody tr th {\n",
       "        vertical-align: top;\n",
       "    }\n",
       "\n",
       "    .dataframe thead th {\n",
       "        text-align: right;\n",
       "    }\n",
       "</style>\n",
       "<table border=\"1\" class=\"dataframe\">\n",
       "  <thead>\n",
       "    <tr style=\"text-align: right;\">\n",
       "      <th></th>\n",
       "      <th>ProductID</th>\n",
       "      <th>Quantity</th>\n",
       "      <th>ProductName</th>\n",
       "      <th>Category</th>\n",
       "      <th>Price</th>\n",
       "      <th>TotalValue</th>\n",
       "    </tr>\n",
       "  </thead>\n",
       "  <tbody>\n",
       "    <tr>\n",
       "      <th>27</th>\n",
       "      <td>P029</td>\n",
       "      <td>22</td>\n",
       "      <td>TechPro Headphones</td>\n",
       "      <td>Electronics</td>\n",
       "      <td>433.64</td>\n",
       "      <td>9540.08</td>\n",
       "    </tr>\n",
       "    <tr>\n",
       "      <th>15</th>\n",
       "      <td>P017</td>\n",
       "      <td>17</td>\n",
       "      <td>ActiveWear Textbook</td>\n",
       "      <td>Books</td>\n",
       "      <td>469.77</td>\n",
       "      <td>7986.09</td>\n",
       "    </tr>\n",
       "    <tr>\n",
       "      <th>75</th>\n",
       "      <td>P079</td>\n",
       "      <td>18</td>\n",
       "      <td>ActiveWear Rug</td>\n",
       "      <td>Home Decor</td>\n",
       "      <td>417.37</td>\n",
       "      <td>7512.66</td>\n",
       "    </tr>\n",
       "    <tr>\n",
       "      <th>44</th>\n",
       "      <td>P048</td>\n",
       "      <td>18</td>\n",
       "      <td>TechPro Cookbook</td>\n",
       "      <td>Books</td>\n",
       "      <td>416.40</td>\n",
       "      <td>7495.20</td>\n",
       "    </tr>\n",
       "    <tr>\n",
       "      <th>35</th>\n",
       "      <td>P039</td>\n",
       "      <td>17</td>\n",
       "      <td>TechPro Smartwatch</td>\n",
       "      <td>Electronics</td>\n",
       "      <td>430.59</td>\n",
       "      <td>7320.03</td>\n",
       "    </tr>\n",
       "  </tbody>\n",
       "</table>\n",
       "</div>"
      ],
      "text/plain": [
       "   ProductID  Quantity          ProductName     Category   Price  TotalValue\n",
       "27      P029        22   TechPro Headphones  Electronics  433.64     9540.08\n",
       "15      P017        17  ActiveWear Textbook        Books  469.77     7986.09\n",
       "75      P079        18       ActiveWear Rug   Home Decor  417.37     7512.66\n",
       "44      P048        18     TechPro Cookbook        Books  416.40     7495.20\n",
       "35      P039        17   TechPro Smartwatch  Electronics  430.59     7320.03"
      ]
     },
     "execution_count": 25,
     "metadata": {},
     "output_type": "execute_result"
    }
   ],
   "source": [
    "# check the most popular products in South America by value sold\n",
    "product_sold['TotalValue'] = product_sold['Quantity'] * product_sold['Price']\n",
    "top_5_products_value = product_sold.sort_values('TotalValue', ascending=False).head(5)\n",
    "top_5_products_value"
   ]
  },
  {
   "cell_type": "code",
   "execution_count": 26,
   "metadata": {},
   "outputs": [
    {
     "data": {
      "image/png": "[encoded data removed]",
      "text/plain": [
       "<Figure size 640x480 with 1 Axes>"
      ]
     },
     "metadata": {},
     "output_type": "display_data"
    }
   ],
   "source": [
    "# check which category is most sold in south america\n",
    "grouped_category = product_sold.groupby('Category')\n",
    "category_value = grouped_category['Quantity'].sum()\n",
    "category_value = category_value.sort_values()\n",
    "category_value.plot(kind='barh')\n",
    "plt.xlabel('Total Value')\n",
    "plt.ylabel('Category')\n",
    "plt.title('Total Sold per Category in South America')\n",
    "for index, value in enumerate(category_value):\n",
    "    plt.text(value, index, str(value))\n",
    "plt.show()"
   ]
  },
  {
   "cell_type": "code",
   "execution_count": null,
   "metadata": {},
   "outputs": [
    {
     "data": {
      "image/png": "[encoded data removed]",
      "text/plain": [
       "<Figure size 640x480 with 1 Axes>"
      ]
     },
     "metadata": {},
     "output_type": "display_data"
    }
   ],
   "source": [
    "grouped_category = product_sold.groupby('Category')\n",
    "category_value = grouped_category['TotalValue'].sum()\n",
    "category_value = category_value.sort_values()\n",
    "category_value.plot(kind='barh')\n",
    "plt.xlabel('Total Value')\n",
    "plt.ylabel('Category')\n",
    "plt.title('Total Value per Category in South America')\n",
    "total_value = category_value.sum()\n",
    "for index, value in enumerate(category_value):\n",
    "    plt.text(value, index, str(round(value / total_value * 100, 2)) + '%')\n",
    "plt.show()"
   ]
  },
  {
   "cell_type": "code",
   "execution_count": 28,
   "metadata": {},
   "outputs": [
    {
     "data": {
      "text/html": [
       "<div>\n",
       "<style scoped>\n",
       "    .dataframe tbody tr th:only-of-type {\n",
       "        vertical-align: middle;\n",
       "    }\n",
       "\n",
       "    .dataframe tbody tr th {\n",
       "        vertical-align: top;\n",
       "    }\n",
       "\n",
       "    .dataframe thead th {\n",
       "        text-align: right;\n",
       "    }\n",
       "</style>\n",
       "<table border=\"1\" class=\"dataframe\">\n",
       "  <thead>\n",
       "    <tr style=\"text-align: right;\">\n",
       "      <th></th>\n",
       "      <th>ProductID</th>\n",
       "      <th>Quantity</th>\n",
       "      <th>ProductName</th>\n",
       "      <th>Category</th>\n",
       "      <th>Price</th>\n",
       "    </tr>\n",
       "  </thead>\n",
       "  <tbody>\n",
       "    <tr>\n",
       "      <th>41</th>\n",
       "      <td>P047</td>\n",
       "      <td>16</td>\n",
       "      <td>ComfortLiving Cookware Set</td>\n",
       "      <td>Home Decor</td>\n",
       "      <td>159.33</td>\n",
       "    </tr>\n",
       "    <tr>\n",
       "      <th>68</th>\n",
       "      <td>P076</td>\n",
       "      <td>14</td>\n",
       "      <td>ActiveWear Jeans</td>\n",
       "      <td>Clothing</td>\n",
       "      <td>429.29</td>\n",
       "    </tr>\n",
       "    <tr>\n",
       "      <th>24</th>\n",
       "      <td>P028</td>\n",
       "      <td>13</td>\n",
       "      <td>HomeSense Desk Lamp</td>\n",
       "      <td>Home Decor</td>\n",
       "      <td>235.58</td>\n",
       "    </tr>\n",
       "    <tr>\n",
       "      <th>56</th>\n",
       "      <td>P064</td>\n",
       "      <td>13</td>\n",
       "      <td>HomeSense Running Shoes</td>\n",
       "      <td>Clothing</td>\n",
       "      <td>452.42</td>\n",
       "    </tr>\n",
       "    <tr>\n",
       "      <th>35</th>\n",
       "      <td>P040</td>\n",
       "      <td>12</td>\n",
       "      <td>SoundWave Mystery Book</td>\n",
       "      <td>Books</td>\n",
       "      <td>153.19</td>\n",
       "    </tr>\n",
       "  </tbody>\n",
       "</table>\n",
       "</div>"
      ],
      "text/plain": [
       "   ProductID  Quantity                 ProductName    Category   Price\n",
       "41      P047        16  ComfortLiving Cookware Set  Home Decor  159.33\n",
       "68      P076        14            ActiveWear Jeans    Clothing  429.29\n",
       "24      P028        13         HomeSense Desk Lamp  Home Decor  235.58\n",
       "56      P064        13     HomeSense Running Shoes    Clothing  452.42\n",
       "35      P040        12      SoundWave Mystery Book       Books  153.19"
      ]
     },
     "execution_count": 28,
     "metadata": {},
     "output_type": "execute_result"
    }
   ],
   "source": [
    "# check the most popular products in Asia by quantity sold\n",
    "asia_customers = customers_df[customers_df['Region'] == 'Asia']\n",
    "asia_customers = asia_customers.merge(transactions_df, on='CustomerID')\n",
    "asia_customers = asia_customers.merge(products_df, on='ProductID')\n",
    "grouped_products = asia_customers.groupby('ProductID')\n",
    "product_sold = grouped_products['Quantity'].sum()\n",
    "product_sold = product_sold.reset_index()\n",
    "product_sold = product_sold.merge(products_df, on='ProductID')\n",
    "top_5_products = product_sold.sort_values('Quantity', ascending=False).head(5)\n",
    "top_5_products"
   ]
  },
  {
   "cell_type": "code",
   "execution_count": 29,
   "metadata": {},
   "outputs": [
    {
     "data": {
      "text/html": [
       "<div>\n",
       "<style scoped>\n",
       "    .dataframe tbody tr th:only-of-type {\n",
       "        vertical-align: middle;\n",
       "    }\n",
       "\n",
       "    .dataframe tbody tr th {\n",
       "        vertical-align: top;\n",
       "    }\n",
       "\n",
       "    .dataframe thead th {\n",
       "        text-align: right;\n",
       "    }\n",
       "</style>\n",
       "<table border=\"1\" class=\"dataframe\">\n",
       "  <thead>\n",
       "    <tr style=\"text-align: right;\">\n",
       "      <th></th>\n",
       "      <th>ProductID</th>\n",
       "      <th>Quantity</th>\n",
       "      <th>ProductName</th>\n",
       "      <th>Category</th>\n",
       "      <th>Price</th>\n",
       "      <th>TotalValue</th>\n",
       "    </tr>\n",
       "  </thead>\n",
       "  <tbody>\n",
       "    <tr>\n",
       "      <th>68</th>\n",
       "      <td>P076</td>\n",
       "      <td>14</td>\n",
       "      <td>ActiveWear Jeans</td>\n",
       "      <td>Clothing</td>\n",
       "      <td>429.29</td>\n",
       "      <td>6010.06</td>\n",
       "    </tr>\n",
       "    <tr>\n",
       "      <th>56</th>\n",
       "      <td>P064</td>\n",
       "      <td>13</td>\n",
       "      <td>HomeSense Running Shoes</td>\n",
       "      <td>Clothing</td>\n",
       "      <td>452.42</td>\n",
       "      <td>5881.46</td>\n",
       "    </tr>\n",
       "    <tr>\n",
       "      <th>57</th>\n",
       "      <td>P065</td>\n",
       "      <td>11</td>\n",
       "      <td>BookWorld Sweater</td>\n",
       "      <td>Clothing</td>\n",
       "      <td>427.61</td>\n",
       "      <td>4703.71</td>\n",
       "    </tr>\n",
       "    <tr>\n",
       "      <th>44</th>\n",
       "      <td>P050</td>\n",
       "      <td>10</td>\n",
       "      <td>ActiveWear Smartwatch</td>\n",
       "      <td>Electronics</td>\n",
       "      <td>437.65</td>\n",
       "      <td>4376.50</td>\n",
       "    </tr>\n",
       "    <tr>\n",
       "      <th>70</th>\n",
       "      <td>P079</td>\n",
       "      <td>10</td>\n",
       "      <td>ActiveWear Rug</td>\n",
       "      <td>Home Decor</td>\n",
       "      <td>417.37</td>\n",
       "      <td>4173.70</td>\n",
       "    </tr>\n",
       "  </tbody>\n",
       "</table>\n",
       "</div>"
      ],
      "text/plain": [
       "   ProductID  Quantity              ProductName     Category   Price  \\\n",
       "68      P076        14         ActiveWear Jeans     Clothing  429.29   \n",
       "56      P064        13  HomeSense Running Shoes     Clothing  452.42   \n",
       "57      P065        11        BookWorld Sweater     Clothing  427.61   \n",
       "44      P050        10    ActiveWear Smartwatch  Electronics  437.65   \n",
       "70      P079        10           ActiveWear Rug   Home Decor  417.37   \n",
       "\n",
       "    TotalValue  \n",
       "68     6010.06  \n",
       "56     5881.46  \n",
       "57     4703.71  \n",
       "44     4376.50  \n",
       "70     4173.70  "
      ]
     },
     "execution_count": 29,
     "metadata": {},
     "output_type": "execute_result"
    }
   ],
   "source": [
    "# check the most popular products in Asia by value sold\n",
    "product_sold['TotalValue'] = product_sold['Quantity'] * product_sold['Price']\n",
    "top_5_products_value = product_sold.sort_values('TotalValue', ascending=False).head(5)\n",
    "top_5_products_value"
   ]
  },
  {
   "cell_type": "code",
   "execution_count": 30,
   "metadata": {},
   "outputs": [
    {
     "data": {
      "text/html": [
       "<div>\n",
       "<style scoped>\n",
       "    .dataframe tbody tr th:only-of-type {\n",
       "        vertical-align: middle;\n",
       "    }\n",
       "\n",
       "    .dataframe tbody tr th {\n",
       "        vertical-align: top;\n",
       "    }\n",
       "\n",
       "    .dataframe thead th {\n",
       "        text-align: right;\n",
       "    }\n",
       "</style>\n",
       "<table border=\"1\" class=\"dataframe\">\n",
       "  <thead>\n",
       "    <tr style=\"text-align: right;\">\n",
       "      <th></th>\n",
       "      <th>ProductID</th>\n",
       "      <th>Quantity</th>\n",
       "      <th>ProductName</th>\n",
       "      <th>Category</th>\n",
       "      <th>Price</th>\n",
       "    </tr>\n",
       "  </thead>\n",
       "  <tbody>\n",
       "    <tr>\n",
       "      <th>44</th>\n",
       "      <td>P049</td>\n",
       "      <td>19</td>\n",
       "      <td>TechPro Textbook</td>\n",
       "      <td>Books</td>\n",
       "      <td>147.95</td>\n",
       "    </tr>\n",
       "    <tr>\n",
       "      <th>4</th>\n",
       "      <td>P006</td>\n",
       "      <td>17</td>\n",
       "      <td>ActiveWear Rug</td>\n",
       "      <td>Home Decor</td>\n",
       "      <td>121.32</td>\n",
       "    </tr>\n",
       "    <tr>\n",
       "      <th>83</th>\n",
       "      <td>P097</td>\n",
       "      <td>17</td>\n",
       "      <td>BookWorld Cookbook</td>\n",
       "      <td>Books</td>\n",
       "      <td>319.34</td>\n",
       "    </tr>\n",
       "    <tr>\n",
       "      <th>62</th>\n",
       "      <td>P074</td>\n",
       "      <td>15</td>\n",
       "      <td>SoundWave Desk Lamp</td>\n",
       "      <td>Home Decor</td>\n",
       "      <td>295.58</td>\n",
       "    </tr>\n",
       "    <tr>\n",
       "      <th>47</th>\n",
       "      <td>P054</td>\n",
       "      <td>15</td>\n",
       "      <td>SoundWave Cookbook</td>\n",
       "      <td>Books</td>\n",
       "      <td>57.30</td>\n",
       "    </tr>\n",
       "  </tbody>\n",
       "</table>\n",
       "</div>"
      ],
      "text/plain": [
       "   ProductID  Quantity          ProductName    Category   Price\n",
       "44      P049        19     TechPro Textbook       Books  147.95\n",
       "4       P006        17       ActiveWear Rug  Home Decor  121.32\n",
       "83      P097        17   BookWorld Cookbook       Books  319.34\n",
       "62      P074        15  SoundWave Desk Lamp  Home Decor  295.58\n",
       "47      P054        15   SoundWave Cookbook       Books   57.30"
      ]
     },
     "execution_count": 30,
     "metadata": {},
     "output_type": "execute_result"
    }
   ],
   "source": [
    "# check the most popular products in Europe by quantity sold\n",
    "europe_customers = customers_df[customers_df['Region'] == 'Europe']\n",
    "europe_customers = europe_customers.merge(transactions_df, on='CustomerID')\n",
    "europe_customers = europe_customers.merge(products_df, on='ProductID')\n",
    "grouped_products = europe_customers.groupby('ProductID')\n",
    "product_sold = grouped_products['Quantity'].sum()\n",
    "product_sold = product_sold.reset_index()\n",
    "product_sold = product_sold.merge(products_df, on='ProductID')\n",
    "top_5_products = product_sold.sort_values('Quantity', ascending=False).head(5)\n",
    "top_5_products"
   ]
  },
  {
   "cell_type": "code",
   "execution_count": 31,
   "metadata": {},
   "outputs": [
    {
     "data": {
      "text/html": [
       "<div>\n",
       "<style scoped>\n",
       "    .dataframe tbody tr th:only-of-type {\n",
       "        vertical-align: middle;\n",
       "    }\n",
       "\n",
       "    .dataframe tbody tr th {\n",
       "        vertical-align: top;\n",
       "    }\n",
       "\n",
       "    .dataframe thead th {\n",
       "        text-align: right;\n",
       "    }\n",
       "</style>\n",
       "<table border=\"1\" class=\"dataframe\">\n",
       "  <thead>\n",
       "    <tr style=\"text-align: right;\">\n",
       "      <th></th>\n",
       "      <th>ProductID</th>\n",
       "      <th>Quantity</th>\n",
       "      <th>ProductName</th>\n",
       "      <th>Category</th>\n",
       "      <th>Price</th>\n",
       "      <th>TotalValue</th>\n",
       "    </tr>\n",
       "  </thead>\n",
       "  <tbody>\n",
       "    <tr>\n",
       "      <th>70</th>\n",
       "      <td>P083</td>\n",
       "      <td>13</td>\n",
       "      <td>ActiveWear Smartwatch</td>\n",
       "      <td>Electronics</td>\n",
       "      <td>455.72</td>\n",
       "      <td>5924.36</td>\n",
       "    </tr>\n",
       "    <tr>\n",
       "      <th>83</th>\n",
       "      <td>P097</td>\n",
       "      <td>17</td>\n",
       "      <td>BookWorld Cookbook</td>\n",
       "      <td>Books</td>\n",
       "      <td>319.34</td>\n",
       "      <td>5428.78</td>\n",
       "    </tr>\n",
       "    <tr>\n",
       "      <th>66</th>\n",
       "      <td>P079</td>\n",
       "      <td>13</td>\n",
       "      <td>ActiveWear Rug</td>\n",
       "      <td>Home Decor</td>\n",
       "      <td>417.37</td>\n",
       "      <td>5425.81</td>\n",
       "    </tr>\n",
       "    <tr>\n",
       "      <th>78</th>\n",
       "      <td>P092</td>\n",
       "      <td>13</td>\n",
       "      <td>BookWorld Running Shoes</td>\n",
       "      <td>Clothing</td>\n",
       "      <td>389.20</td>\n",
       "      <td>5059.60</td>\n",
       "    </tr>\n",
       "    <tr>\n",
       "      <th>40</th>\n",
       "      <td>P045</td>\n",
       "      <td>10</td>\n",
       "      <td>SoundWave T-Shirt</td>\n",
       "      <td>Clothing</td>\n",
       "      <td>481.78</td>\n",
       "      <td>4817.80</td>\n",
       "    </tr>\n",
       "  </tbody>\n",
       "</table>\n",
       "</div>"
      ],
      "text/plain": [
       "   ProductID  Quantity              ProductName     Category   Price  \\\n",
       "70      P083        13    ActiveWear Smartwatch  Electronics  455.72   \n",
       "83      P097        17       BookWorld Cookbook        Books  319.34   \n",
       "66      P079        13           ActiveWear Rug   Home Decor  417.37   \n",
       "78      P092        13  BookWorld Running Shoes     Clothing  389.20   \n",
       "40      P045        10        SoundWave T-Shirt     Clothing  481.78   \n",
       "\n",
       "    TotalValue  \n",
       "70     5924.36  \n",
       "83     5428.78  \n",
       "66     5425.81  \n",
       "78     5059.60  \n",
       "40     4817.80  "
      ]
     },
     "execution_count": 31,
     "metadata": {},
     "output_type": "execute_result"
    }
   ],
   "source": [
    "# check the most popular products in Europe by value sold\n",
    "product_sold['TotalValue'] = product_sold['Quantity'] * product_sold['Price']\n",
    "top_5_products_value = product_sold.sort_values('TotalValue', ascending=False).head(5)\n",
    "top_5_products_value"
   ]
  },
  {
   "cell_type": "code",
   "execution_count": 32,
   "metadata": {},
   "outputs": [
    {
     "data": {
      "text/html": [
       "<div>\n",
       "<style scoped>\n",
       "    .dataframe tbody tr th:only-of-type {\n",
       "        vertical-align: middle;\n",
       "    }\n",
       "\n",
       "    .dataframe tbody tr th {\n",
       "        vertical-align: top;\n",
       "    }\n",
       "\n",
       "    .dataframe thead th {\n",
       "        text-align: right;\n",
       "    }\n",
       "</style>\n",
       "<table border=\"1\" class=\"dataframe\">\n",
       "  <thead>\n",
       "    <tr style=\"text-align: right;\">\n",
       "      <th></th>\n",
       "      <th>ProductID</th>\n",
       "      <th>Quantity</th>\n",
       "      <th>ProductName</th>\n",
       "      <th>Category</th>\n",
       "      <th>Price</th>\n",
       "    </tr>\n",
       "  </thead>\n",
       "  <tbody>\n",
       "    <tr>\n",
       "      <th>24</th>\n",
       "      <td>P027</td>\n",
       "      <td>18</td>\n",
       "      <td>SoundWave Headphones</td>\n",
       "      <td>Electronics</td>\n",
       "      <td>229.06</td>\n",
       "    </tr>\n",
       "    <tr>\n",
       "      <th>18</th>\n",
       "      <td>P019</td>\n",
       "      <td>17</td>\n",
       "      <td>ComfortLiving Sweater</td>\n",
       "      <td>Clothing</td>\n",
       "      <td>385.37</td>\n",
       "    </tr>\n",
       "    <tr>\n",
       "      <th>21</th>\n",
       "      <td>P022</td>\n",
       "      <td>14</td>\n",
       "      <td>HomeSense Wall Art</td>\n",
       "      <td>Home Decor</td>\n",
       "      <td>137.54</td>\n",
       "    </tr>\n",
       "    <tr>\n",
       "      <th>46</th>\n",
       "      <td>P051</td>\n",
       "      <td>12</td>\n",
       "      <td>ComfortLiving Desk Lamp</td>\n",
       "      <td>Home Decor</td>\n",
       "      <td>65.16</td>\n",
       "    </tr>\n",
       "    <tr>\n",
       "      <th>50</th>\n",
       "      <td>P055</td>\n",
       "      <td>12</td>\n",
       "      <td>BookWorld Biography</td>\n",
       "      <td>Books</td>\n",
       "      <td>128.53</td>\n",
       "    </tr>\n",
       "  </tbody>\n",
       "</table>\n",
       "</div>"
      ],
      "text/plain": [
       "   ProductID  Quantity              ProductName     Category   Price\n",
       "24      P027        18     SoundWave Headphones  Electronics  229.06\n",
       "18      P019        17    ComfortLiving Sweater     Clothing  385.37\n",
       "21      P022        14       HomeSense Wall Art   Home Decor  137.54\n",
       "46      P051        12  ComfortLiving Desk Lamp   Home Decor   65.16\n",
       "50      P055        12      BookWorld Biography        Books  128.53"
      ]
     },
     "execution_count": 32,
     "metadata": {},
     "output_type": "execute_result"
    }
   ],
   "source": [
    "# check the most popular products in North America by quantity sold\n",
    "north_america_customers = customers_df[customers_df['Region'] == 'North America']\n",
    "north_america_customers = north_america_customers.merge(transactions_df, on='CustomerID')\n",
    "north_america_customers = north_america_customers.merge(products_df, on='ProductID')\n",
    "grouped_products = north_america_customers.groupby('ProductID')\n",
    "product_sold = grouped_products['Quantity'].sum()\n",
    "product_sold = product_sold.reset_index()\n",
    "product_sold = product_sold.merge(products_df, on='ProductID')\n",
    "top_5_products = product_sold.sort_values('Quantity', ascending=False).head(5)\n",
    "top_5_products"
   ]
  },
  {
   "cell_type": "code",
   "execution_count": 33,
   "metadata": {},
   "outputs": [
    {
     "data": {
      "text/html": [
       "<div>\n",
       "<style scoped>\n",
       "    .dataframe tbody tr th:only-of-type {\n",
       "        vertical-align: middle;\n",
       "    }\n",
       "\n",
       "    .dataframe tbody tr th {\n",
       "        vertical-align: top;\n",
       "    }\n",
       "\n",
       "    .dataframe thead th {\n",
       "        text-align: right;\n",
       "    }\n",
       "</style>\n",
       "<table border=\"1\" class=\"dataframe\">\n",
       "  <thead>\n",
       "    <tr style=\"text-align: right;\">\n",
       "      <th></th>\n",
       "      <th>ProductID</th>\n",
       "      <th>Quantity</th>\n",
       "      <th>ProductName</th>\n",
       "      <th>Category</th>\n",
       "      <th>Price</th>\n",
       "      <th>TotalValue</th>\n",
       "    </tr>\n",
       "  </thead>\n",
       "  <tbody>\n",
       "    <tr>\n",
       "      <th>18</th>\n",
       "      <td>P019</td>\n",
       "      <td>17</td>\n",
       "      <td>ComfortLiving Sweater</td>\n",
       "      <td>Clothing</td>\n",
       "      <td>385.37</td>\n",
       "      <td>6551.29</td>\n",
       "    </tr>\n",
       "    <tr>\n",
       "      <th>77</th>\n",
       "      <td>P083</td>\n",
       "      <td>12</td>\n",
       "      <td>ActiveWear Smartwatch</td>\n",
       "      <td>Electronics</td>\n",
       "      <td>455.72</td>\n",
       "      <td>5468.64</td>\n",
       "    </tr>\n",
       "    <tr>\n",
       "      <th>34</th>\n",
       "      <td>P037</td>\n",
       "      <td>10</td>\n",
       "      <td>SoundWave Smartwatch</td>\n",
       "      <td>Electronics</td>\n",
       "      <td>459.86</td>\n",
       "      <td>4598.60</td>\n",
       "    </tr>\n",
       "    <tr>\n",
       "      <th>43</th>\n",
       "      <td>P048</td>\n",
       "      <td>11</td>\n",
       "      <td>TechPro Cookbook</td>\n",
       "      <td>Books</td>\n",
       "      <td>416.40</td>\n",
       "      <td>4580.40</td>\n",
       "    </tr>\n",
       "    <tr>\n",
       "      <th>26</th>\n",
       "      <td>P029</td>\n",
       "      <td>10</td>\n",
       "      <td>TechPro Headphones</td>\n",
       "      <td>Electronics</td>\n",
       "      <td>433.64</td>\n",
       "      <td>4336.40</td>\n",
       "    </tr>\n",
       "  </tbody>\n",
       "</table>\n",
       "</div>"
      ],
      "text/plain": [
       "   ProductID  Quantity            ProductName     Category   Price  TotalValue\n",
       "18      P019        17  ComfortLiving Sweater     Clothing  385.37     6551.29\n",
       "77      P083        12  ActiveWear Smartwatch  Electronics  455.72     5468.64\n",
       "34      P037        10   SoundWave Smartwatch  Electronics  459.86     4598.60\n",
       "43      P048        11       TechPro Cookbook        Books  416.40     4580.40\n",
       "26      P029        10     TechPro Headphones  Electronics  433.64     4336.40"
      ]
     },
     "execution_count": 33,
     "metadata": {},
     "output_type": "execute_result"
    }
   ],
   "source": [
    "# check the most popular products in North America by value sold\n",
    "product_sold['TotalValue'] = product_sold['Quantity'] * product_sold['Price']\n",
    "top_5_products_value = product_sold.sort_values('TotalValue', ascending=False).head(5)\n",
    "top_5_products_value"
   ]
  },
  {
   "cell_type": "code",
   "execution_count": 35,
   "metadata": {},
   "outputs": [],
   "source": [
    "# Get the top 20% of customers that generate the most value\n",
    "grouped_customers = transactions_df.groupby('CustomerID')\n",
    "amount_spent_by_each_customer = grouped_customers['TotalValue'].sum()\n",
    "amount_spent_by_each_customer = amount_spent_by_each_customer.reset_index()\n",
    "amount_spent_by_each_customer = amount_spent_by_each_customer.sort_values('TotalValue', ascending=False)\n",
    "top_20_percent = amount_spent_by_each_customer.head(int(0.2 * len(amount_spent_by_each_customer)))"
   ]
  },
  {
   "cell_type": "code",
   "execution_count": 36,
   "metadata": {},
   "outputs": [
    {
     "data": {
      "text/plain": [
       "np.float64(35.14466817728508)"
      ]
     },
     "execution_count": 36,
     "metadata": {},
     "output_type": "execute_result"
    }
   ],
   "source": [
    "# Check how much percentage of the total value is generated by the top 20% of customers (We're checking the 80/20 rule)\n",
    "total_value = amount_spent_by_each_customer['TotalValue'].sum()\n",
    "top_20_percent_value = top_20_percent['TotalValue'].sum()\n",
    "percentage = top_20_percent_value / total_value * 100\n",
    "percentage"
   ]
  },
  {
   "cell_type": "code",
   "execution_count": 37,
   "metadata": {},
   "outputs": [
    {
     "data": {
      "image/png": "[encoded data removed]",
      "text/plain": [
       "<Figure size 640x480 with 1 Axes>"
      ]
     },
     "metadata": {},
     "output_type": "display_data"
    }
   ],
   "source": [
    "# find the contribution of each category to the total value\n",
    "transactions_df_copy = transactions_df.copy()\n",
    "transactions_df_copy = transactions_df_copy.merge(products_df, on='ProductID')\n",
    "grouped_category = transactions_df_copy.groupby('Category')\n",
    "category_value = grouped_category['TotalValue'].sum()\n",
    "category_value = category_value.sort_values()\n",
    "category_value.plot(kind='barh')\n",
    "plt.xlabel('Total Value')\n",
    "plt.ylabel('Category')\n",
    "plt.title('Total Value per Category')\n",
    "total_value = category_value.sum()\n",
    "for index, value in enumerate(category_value):\n",
    "    plt.text(value, index, str(round(value / total_value * 100, 2)) + '%')\n",
    "plt.show()"
   ]
  },
  {
   "cell_type": "code",
   "execution_count": 38,
   "metadata": {},
   "outputs": [
    {
     "data": {
      "text/html": [
       "<div>\n",
       "<style scoped>\n",
       "    .dataframe tbody tr th:only-of-type {\n",
       "        vertical-align: middle;\n",
       "    }\n",
       "\n",
       "    .dataframe tbody tr th {\n",
       "        vertical-align: top;\n",
       "    }\n",
       "\n",
       "    .dataframe thead th {\n",
       "        text-align: right;\n",
       "    }\n",
       "</style>\n",
       "<table border=\"1\" class=\"dataframe\">\n",
       "  <thead>\n",
       "    <tr style=\"text-align: right;\">\n",
       "      <th></th>\n",
       "      <th>ProductID</th>\n",
       "      <th>Quantity</th>\n",
       "      <th>ProductName</th>\n",
       "      <th>Category</th>\n",
       "      <th>Price</th>\n",
       "    </tr>\n",
       "  </thead>\n",
       "  <tbody>\n",
       "    <tr>\n",
       "      <th>53</th>\n",
       "      <td>P054</td>\n",
       "      <td>46</td>\n",
       "      <td>SoundWave Cookbook</td>\n",
       "      <td>Books</td>\n",
       "      <td>57.30</td>\n",
       "    </tr>\n",
       "    <tr>\n",
       "      <th>58</th>\n",
       "      <td>P059</td>\n",
       "      <td>46</td>\n",
       "      <td>SoundWave Jeans</td>\n",
       "      <td>Clothing</td>\n",
       "      <td>303.20</td>\n",
       "    </tr>\n",
       "    <tr>\n",
       "      <th>28</th>\n",
       "      <td>P029</td>\n",
       "      <td>45</td>\n",
       "      <td>TechPro Headphones</td>\n",
       "      <td>Electronics</td>\n",
       "      <td>433.64</td>\n",
       "    </tr>\n",
       "    <tr>\n",
       "      <th>47</th>\n",
       "      <td>P048</td>\n",
       "      <td>43</td>\n",
       "      <td>TechPro Cookbook</td>\n",
       "      <td>Books</td>\n",
       "      <td>416.40</td>\n",
       "    </tr>\n",
       "    <tr>\n",
       "      <th>56</th>\n",
       "      <td>P057</td>\n",
       "      <td>43</td>\n",
       "      <td>ActiveWear Smartphone</td>\n",
       "      <td>Electronics</td>\n",
       "      <td>239.70</td>\n",
       "    </tr>\n",
       "  </tbody>\n",
       "</table>\n",
       "</div>"
      ],
      "text/plain": [
       "   ProductID  Quantity            ProductName     Category   Price\n",
       "53      P054        46     SoundWave Cookbook        Books   57.30\n",
       "58      P059        46        SoundWave Jeans     Clothing  303.20\n",
       "28      P029        45     TechPro Headphones  Electronics  433.64\n",
       "47      P048        43       TechPro Cookbook        Books  416.40\n",
       "56      P057        43  ActiveWear Smartphone  Electronics  239.70"
      ]
     },
     "execution_count": 38,
     "metadata": {},
     "output_type": "execute_result"
    }
   ],
   "source": [
    "# find the most popular products\n",
    "grouped_products = transactions_df_copy.groupby('ProductID')\n",
    "product_sold = grouped_products['Quantity'].sum()\n",
    "product_sold = product_sold.reset_index()\n",
    "product_sold = product_sold.merge(products_df, on='ProductID')\n",
    "top_5_products = product_sold.sort_values('Quantity', ascending=False).head(5)\n",
    "top_5_products"
   ]
  },
  {
   "cell_type": "code",
   "execution_count": 39,
   "metadata": {},
   "outputs": [
    {
     "data": {
      "text/html": [
       "<div>\n",
       "<style scoped>\n",
       "    .dataframe tbody tr th:only-of-type {\n",
       "        vertical-align: middle;\n",
       "    }\n",
       "\n",
       "    .dataframe tbody tr th {\n",
       "        vertical-align: top;\n",
       "    }\n",
       "\n",
       "    .dataframe thead th {\n",
       "        text-align: right;\n",
       "    }\n",
       "</style>\n",
       "<table border=\"1\" class=\"dataframe\">\n",
       "  <thead>\n",
       "    <tr style=\"text-align: right;\">\n",
       "      <th></th>\n",
       "      <th>ProductID</th>\n",
       "      <th>Quantity</th>\n",
       "      <th>ProductName</th>\n",
       "      <th>Category</th>\n",
       "      <th>Price</th>\n",
       "      <th>TotalValue</th>\n",
       "    </tr>\n",
       "  </thead>\n",
       "  <tbody>\n",
       "    <tr>\n",
       "      <th>28</th>\n",
       "      <td>P029</td>\n",
       "      <td>45</td>\n",
       "      <td>TechPro Headphones</td>\n",
       "      <td>Electronics</td>\n",
       "      <td>433.64</td>\n",
       "      <td>19513.80</td>\n",
       "    </tr>\n",
       "    <tr>\n",
       "      <th>78</th>\n",
       "      <td>P079</td>\n",
       "      <td>43</td>\n",
       "      <td>ActiveWear Rug</td>\n",
       "      <td>Home Decor</td>\n",
       "      <td>417.37</td>\n",
       "      <td>17946.91</td>\n",
       "    </tr>\n",
       "    <tr>\n",
       "      <th>47</th>\n",
       "      <td>P048</td>\n",
       "      <td>43</td>\n",
       "      <td>TechPro Cookbook</td>\n",
       "      <td>Books</td>\n",
       "      <td>416.40</td>\n",
       "      <td>17905.20</td>\n",
       "    </tr>\n",
       "    <tr>\n",
       "      <th>19</th>\n",
       "      <td>P020</td>\n",
       "      <td>38</td>\n",
       "      <td>ActiveWear Jacket</td>\n",
       "      <td>Clothing</td>\n",
       "      <td>396.34</td>\n",
       "      <td>15060.92</td>\n",
       "    </tr>\n",
       "    <tr>\n",
       "      <th>61</th>\n",
       "      <td>P062</td>\n",
       "      <td>39</td>\n",
       "      <td>HomeSense Novel</td>\n",
       "      <td>Books</td>\n",
       "      <td>374.16</td>\n",
       "      <td>14592.24</td>\n",
       "    </tr>\n",
       "  </tbody>\n",
       "</table>\n",
       "</div>"
      ],
      "text/plain": [
       "   ProductID  Quantity         ProductName     Category   Price  TotalValue\n",
       "28      P029        45  TechPro Headphones  Electronics  433.64    19513.80\n",
       "78      P079        43      ActiveWear Rug   Home Decor  417.37    17946.91\n",
       "47      P048        43    TechPro Cookbook        Books  416.40    17905.20\n",
       "19      P020        38   ActiveWear Jacket     Clothing  396.34    15060.92\n",
       "61      P062        39     HomeSense Novel        Books  374.16    14592.24"
      ]
     },
     "execution_count": 39,
     "metadata": {},
     "output_type": "execute_result"
    }
   ],
   "source": [
    "# find the products that generate the most value\n",
    "product_sold['TotalValue'] = product_sold['Quantity'] * product_sold['Price']\n",
    "top_5_products_value = product_sold.sort_values('TotalValue', ascending=False).head(5)\n",
    "top_5_products_value"
   ]
  },
  {
   "cell_type": "code",
   "execution_count": 52,
   "metadata": {},
   "outputs": [
    {
     "data": {
      "image/png": "[encoded data removed]",
      "text/plain": [
       "<Figure size 640x480 with 1 Axes>"
      ]
     },
     "metadata": {},
     "output_type": "display_data"
    }
   ],
   "source": [
    "# find the average price in each category by merging the transactions and products dataframes\n",
    "transactions_df_copy = transactions_df.copy()\n",
    "transactions_df_copy = transactions_df_copy.merge(products_df, on='ProductID')\n",
    "transactions_df_copy.drop('Price_y', axis=1, inplace=True)\n",
    "transactions_df_copy.rename(columns={'Price_x': 'Price'}, inplace=True)\n",
    "grouped_category = transactions_df_copy.groupby('Category')\n",
    "average_price = grouped_category['Price'].mean()\n",
    "average_price = average_price.sort_values()\n",
    "average_price.plot(kind='barh')\n",
    "plt.xlabel('Average Price')\n",
    "plt.ylabel('Category')\n",
    "plt.title('Average Price per Category')\n",
    "for index, value in enumerate(average_price):\n",
    "    plt.text(value, index, str(round(value, 2)))\n",
    "plt.show()"
   ]
  },
  {
   "cell_type": "code",
   "execution_count": 53,
   "metadata": {},
   "outputs": [
    {
     "data": {
      "image/png": "[encoded data removed]",
      "text/plain": [
       "<Figure size 640x480 with 1 Axes>"
      ]
     },
     "metadata": {},
     "output_type": "display_data"
    }
   ],
   "source": [
    "# find total sold per category\n",
    "category_value = grouped_category['Quantity'].sum()\n",
    "category_value = category_value.sort_values()\n",
    "category_value.plot(kind='barh')\n",
    "plt.xlabel('Total Value')\n",
    "plt.ylabel('Category')\n",
    "plt.title('Total Sold per Category')\n",
    "for index, value in enumerate(category_value):\n",
    "    plt.text(value, index, str(value))\n",
    "plt.show()"
   ]
  },
  {
   "cell_type": "code",
   "execution_count": 61,
   "metadata": {},
   "outputs": [
    {
     "data": {
      "text/plain": [
       "np.float64(403.02919708029196)"
      ]
     },
     "execution_count": 61,
     "metadata": {},
     "output_type": "execute_result"
    }
   ],
   "source": [
    "# find the average time between a customer's signup date and their first purchase\n",
    "transactions_df_copy = transactions_df.copy()\n",
    "transactions_df_copy = transactions_df_copy.merge(customers_df, on='CustomerID')\n",
    "transactions_df_copy['TransactionDate'] = pd.to_datetime(transactions_df_copy['TransactionDate'])\n",
    "transactions_df_copy['SignupDate'] = pd.to_datetime(transactions_df_copy['SignupDate'])\n",
    "transactions_df_copy['TimeToPurchase'] = transactions_df_copy['TransactionDate'] - transactions_df_copy['SignupDate']\n",
    "\n",
    "# find the earliest time to purchase for each customer\n",
    "grouped_customers = transactions_df_copy.groupby('CustomerID')\n",
    "earliest_purchase = grouped_customers['TimeToPurchase'].min()\n",
    "earliest_purchase = earliest_purchase.reset_index()\n",
    "earliest_purchase['TimeToPurchase'] = earliest_purchase['TimeToPurchase'].dt.days\n",
    "\n",
    "# remove all negative values\n",
    "earliest_purchase_copy = earliest_purchase[earliest_purchase['TimeToPurchase'] >= 0]\n",
    "earliest_purchase_copy['TimeToPurchase'].mean()"
   ]
  },
  {
   "cell_type": "code",
   "execution_count": 63,
   "metadata": {},
   "outputs": [
    {
     "data": {
      "text/plain": [
       "np.int64(62)"
      ]
     },
     "execution_count": 63,
     "metadata": {},
     "output_type": "execute_result"
    }
   ],
   "source": [
    "earliest_purchase_negative = earliest_purchase[earliest_purchase['TimeToPurchase'] < 0]\n",
    "earliest_purchase_negative['TimeToPurchase'].mean()"
   ]
  },
  {
   "cell_type": "code",
   "execution_count": 66,
   "metadata": {},
   "outputs": [
    {
     "data": {
      "image/png": "[encoded data removed]",
      "text/plain": [
       "<Figure size 640x480 with 1 Axes>"
      ]
     },
     "metadata": {},
     "output_type": "display_data"
    }
   ],
   "source": [
    "# Plot the distribution of the time to purchase\n",
    "plt.hist(earliest_purchase_copy['TimeToPurchase'], bins=20)\n",
    "plt.xlabel('Time to Purchase')\n",
    "plt.ylabel('Customers')\n",
    "plt.title('Time to Purchase')\n",
    "plt.show()"
   ]
  },
  {
   "cell_type": "code",
   "execution_count": null,
   "metadata": {},
   "outputs": [],
   "source": []
  }
 ],
 "metadata": {
  "kernelspec": {
   "display_name": "venv",
   "language": "python",
   "name": "python3"
  },
  "language_info": {
   "codemirror_mode": {
    "name": "ipython",
    "version": 3
   },
   "file_extension": ".py",
   "mimetype": "text/x-python",
   "name": "python",
   "nbconvert_exporter": "python",
   "pygments_lexer": "ipython3",
   "version": "3.9.13"
  }
 },
 "nbformat": 4,
 "nbformat_minor": 2
}
